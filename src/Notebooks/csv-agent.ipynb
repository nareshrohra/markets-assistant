{
 "cells": [
  {
   "attachments": {},
   "cell_type": "markdown",
   "metadata": {},
   "source": [
    "### Import Libraries"
   ]
  },
  {
   "cell_type": "code",
   "execution_count": 2,
   "metadata": {},
   "outputs": [],
   "source": [
    "import openai\n",
    "from langchain.llms import OpenAI\n",
    "from langchain.embeddings.openai import OpenAIEmbeddings\n",
    "from langchain.agents import create_csv_agent\n",
    "import langchain\n",
    "from pathlib import Path\n",
    "import numpy as np\n",
    "import os, datetime\n",
    "import pandas"
   ]
  },
  {
   "attachments": {},
   "cell_type": "markdown",
   "metadata": {},
   "source": [
    "### Setup Environment Variables"
   ]
  },
  {
   "cell_type": "code",
   "execution_count": 7,
   "metadata": {},
   "outputs": [],
   "source": [
    "data_path = '../../../_data/processed/historical/'"
   ]
  },
  {
   "attachments": {},
   "cell_type": "markdown",
   "metadata": {},
   "source": [
    "### Functions"
   ]
  },
  {
   "cell_type": "code",
   "execution_count": 11,
   "metadata": {},
   "outputs": [],
   "source": [
    "def create_agent_for_data(dataset_name, verbose = True):\n",
    "  input_file_path = os.path.join(data_path, dataset_name)\n",
    "  return create_csv_agent(OpenAI(temperature=0), input_file_path, verbose=verbose)"
   ]
  },
  {
   "attachments": {},
   "cell_type": "markdown",
   "metadata": {},
   "source": [
    "### Try"
   ]
  },
  {
   "cell_type": "code",
   "execution_count": 12,
   "metadata": {},
   "outputs": [],
   "source": [
    "index_agent = create_agent_for_data(\"Indices.csv\")"
   ]
  },
  {
   "cell_type": "code",
   "execution_count": 14,
   "metadata": {},
   "outputs": [
    {
     "name": "stdout",
     "output_type": "stream",
     "text": [
      "\n",
      "\n",
      "\u001b[1m> Entering new AgentExecutor chain...\u001b[0m\n",
      "\u001b[32;1m\u001b[1;3mThought: I need to calculate the returns over 3 months\n",
      "Action: python_repl_ast\n",
      "Action Input: df[df['Index Name'] == 'Nifty 50']['Change(%)'].sum()\u001b[0m\n",
      "Observation: \u001b[36;1m\u001b[1;3m.51.19-1.04-.28-.741.35-1.03-.1-.21.55-.34.89.62-.32-.44.50-1.25-1.61.25.07-.26-.031.38-.5-.24.85.12-.21-.48.89.48.11-.51-.56-.1-1.53-.25-.26-.42-.51.85-.741.57.67.24-.93-1-2.47-.65-.42.08.67-.65.7.26-.44-.77.24-.2.761.63.22.910.240.140.560.51.09-.68-.26-.23.030.68.15.25.57.84.46-.32.92-1.021.08.01.27-.1.1.46-.61-.57-.28.41.61\u001b[0m\n",
      "Thought:\u001b[32;1m\u001b[1;3m I now know the final answer\n",
      "Final Answer: The Nifty50 returns over 3 months is -2.47%.\u001b[0m\n",
      "\n",
      "\u001b[1m> Finished chain.\u001b[0m\n"
     ]
    },
    {
     "data": {
      "text/plain": [
       "'The Nifty50 returns over 3 months is -2.47%.'"
      ]
     },
     "execution_count": 14,
     "metadata": {},
     "output_type": "execute_result"
    }
   ],
   "source": [
    "question = 'What is Nifty50 returns over 3 months?'\n",
    "index_agent.run(question)"
   ]
  }
 ],
 "metadata": {
  "kernelspec": {
   "display_name": "base",
   "language": "python",
   "name": "python3"
  },
  "language_info": {
   "codemirror_mode": {
    "name": "ipython",
    "version": 3
   },
   "file_extension": ".py",
   "mimetype": "text/x-python",
   "name": "python",
   "nbconvert_exporter": "python",
   "pygments_lexer": "ipython3",
   "version": "3.9.12"
  },
  "orig_nbformat": 4
 },
 "nbformat": 4,
 "nbformat_minor": 2
}
